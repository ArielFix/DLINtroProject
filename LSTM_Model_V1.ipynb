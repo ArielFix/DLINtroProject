{
  "nbformat": 4,
  "nbformat_minor": 0,
  "metadata": {
    "colab": {
      "provenance": [],
      "authorship_tag": "ABX9TyNYYAEZSToV9lbZQ5EOXjz6",
      "include_colab_link": true
    },
    "kernelspec": {
      "name": "python3",
      "display_name": "Python 3"
    },
    "language_info": {
      "name": "python"
    }
  },
  "cells": [
    {
      "cell_type": "markdown",
      "metadata": {
        "id": "view-in-github",
        "colab_type": "text"
      },
      "source": [
        "<a href=\"https://colab.research.google.com/github/ArielFix/DLINtroProject/blob/NNModel/LSTM_Model_V1.ipynb\" target=\"_parent\"><img src=\"https://colab.research.google.com/assets/colab-badge.svg\" alt=\"Open In Colab\"/></a>"
      ]
    },
    {
      "cell_type": "code",
      "source": [
        "import numpy as np # linear algebra\n",
        "import pandas as pd # data processing, CSV file I/O (e.g. pd.read_csv)\n",
        "\n",
        "#Library for Splitting Dataset\n",
        "from sklearn.model_selection import train_test_split\n",
        "\n",
        "#Libraries for NN\n",
        "import tensorflow as tf\n",
        "\n",
        "from tensorflow import keras\n",
        "from tensorflow.keras.preprocessing.text import Tokenizer\n",
        "\n",
        "from tensorflow.keras import optimizers\n",
        "from tensorflow.keras.models import Sequential\n",
        "from tensorflow.keras.layers import Dense, Embedding, LSTM, Dropout"
      ],
      "metadata": {
        "id": "ABS6e1eeU2F5"
      },
      "execution_count": 81,
      "outputs": []
    },
    {
      "cell_type": "code",
      "source": [
        "from google.colab import drive\n",
        "drive.mount('/content/gdrive')\n",
        "train_data_path = '/content/gdrive/MyDrive/IDL_Assignments/NLP_Project/data/train.csv'\n",
        "test_data_path = '/content/gdrive/My Drive/IDL_Assignments/NLP_Project/data/test.csv'\n",
        "submission_path = '/content/gdrive/MyDrive/IDL_Assignments/NLP_Project/data/sample_submission.csv'"
      ],
      "metadata": {
        "colab": {
          "base_uri": "https://localhost:8080/"
        },
        "id": "Ml1zRj8hQvEO",
        "outputId": "3f6d717c-a22a-4d8f-e5ae-4713296655a0"
      },
      "execution_count": 82,
      "outputs": [
        {
          "output_type": "stream",
          "name": "stdout",
          "text": [
            "Drive already mounted at /content/gdrive; to attempt to forcibly remount, call drive.mount(\"/content/gdrive\", force_remount=True).\n"
          ]
        }
      ]
    },
    {
      "cell_type": "code",
      "source": [
        "train_data = pd.read_csv(train_data_path)"
      ],
      "metadata": {
        "id": "jQYb9W5gti9E"
      },
      "execution_count": 83,
      "outputs": []
    },
    {
      "cell_type": "code",
      "source": [
        "def toclean_text(text):\n",
        "\n",
        "    \n",
        "    clean_text = [char for char in text if char not in string.punctuation]\n",
        "   \n",
        "    clean_text = ''.join(clean_text)\n",
        "    \n",
        "        \n",
        "    return clean_text"
      ],
      "metadata": {
        "id": "bsnxUkk5PsB_"
      },
      "execution_count": 84,
      "outputs": []
    },
    {
      "cell_type": "code",
      "source": [
        "train_data['clean_text'] = train_data['text'].apply(toclean_text) #This line gives the text without punctuation"
      ],
      "metadata": {
        "id": "Cod3oVFzS7VC"
      },
      "execution_count": 85,
      "outputs": []
    },
    {
      "cell_type": "markdown",
      "source": [
        "More pre-processing must be done! such as replace abbreviations with the original word, remove URLs, remove numbers, remove emojis..etc..."
      ],
      "metadata": {
        "id": "QPGUR_YBuzBH"
      }
    },
    {
      "cell_type": "code",
      "source": [
        "max_features=3000\n",
        "tokenizer=Tokenizer(num_words=max_features,split=' ')\n",
        "tokenizer.fit_on_texts(train_data['clean_text'].values) #Fit_on_texts() Updates internal vocabulary based on a list of texts. \n",
        "X = tokenizer.texts_to_sequences(train_data['clean_text'].values) #texts_to_sequences() Transforms each text in texts to a sequence of numerical value.\n",
        "X = pad_sequences(X)"
      ],
      "metadata": {
        "id": "9e3u1NSyv3ji"
      },
      "execution_count": 86,
      "outputs": []
    },
    {
      "cell_type": "markdown",
      "source": [
        "Model-"
      ],
      "metadata": {
        "id": "SZLKZ7jtwwju"
      }
    },
    {
      "cell_type": "code",
      "source": [
        "y = train_data['target']\n",
        "X_train, X_test, y_train, y_test = train_test_split(X,y, test_size = 0.2, random_state =41) #Split arrays or matrices into random train and test subsets.\n"
      ],
      "metadata": {
        "id": "ps7Lm2WavR3S"
      },
      "execution_count": 87,
      "outputs": []
    },
    {
      "cell_type": "code",
      "source": [
        "embed_dim = 32 \n",
        "lstm_out = 32 #output_dim: Dimension of embedding vector\n",
        "model = Sequential() #a plain stack of layers where each layer has exactly one input tensor and one output tensor.\n",
        "model.add(Embedding(max_features, embed_dim, input_length = X.shape[1])) #using embedding better then one-hot in the cases where mose indices are zero\n",
        "model.add(Dropout(0.2)) #Dropout layer randomly sets input units to 0 with a frequency of rate at each step during training time, which helps prevent overfitting.\n",
        "model.add(LSTM(lstm_out, dropout=0.2, recurrent_dropout=0.4))\n",
        "model.add(Dense(1,activation='sigmoid'))\n",
        "adam = optimizers.Adam(learning_rate=0.002)\n",
        "model.compile(loss = 'binary_crossentropy', optimizer=adam ,metrics = ['accuracy'])\n",
        "print(model.summary())"
      ],
      "metadata": {
        "colab": {
          "base_uri": "https://localhost:8080/"
        },
        "id": "TiL6BkEXwKcA",
        "outputId": "e87bb4c4-1ff8-4187-82b5-71f7212b6bc6"
      },
      "execution_count": 88,
      "outputs": [
        {
          "output_type": "stream",
          "name": "stdout",
          "text": [
            "Model: \"sequential_3\"\n",
            "_________________________________________________________________\n",
            " Layer (type)                Output Shape              Param #   \n",
            "=================================================================\n",
            " embedding_3 (Embedding)     (None, 31, 32)            96000     \n",
            "                                                                 \n",
            " dropout_3 (Dropout)         (None, 31, 32)            0         \n",
            "                                                                 \n",
            " lstm_3 (LSTM)               (None, 32)                8320      \n",
            "                                                                 \n",
            " dense_3 (Dense)             (None, 1)                 33        \n",
            "                                                                 \n",
            "=================================================================\n",
            "Total params: 104,353\n",
            "Trainable params: 104,353\n",
            "Non-trainable params: 0\n",
            "_________________________________________________________________\n",
            "None\n"
          ]
        }
      ]
    },
    {
      "cell_type": "code",
      "source": [
        "model.fit(X_train, y_train, epochs = 10, batch_size=32, validation_data=(X_test, y_test))"
      ],
      "metadata": {
        "colab": {
          "base_uri": "https://localhost:8080/"
        },
        "id": "NanK1ZL3yyHi",
        "outputId": "ee4061bc-4d87-4905-9aa7-79fe63c6f5b2"
      },
      "execution_count": 89,
      "outputs": [
        {
          "output_type": "stream",
          "name": "stdout",
          "text": [
            "Epoch 1/10\n",
            "191/191 [==============================] - 10s 38ms/step - loss: 0.5456 - accuracy: 0.7202 - val_loss: 0.4320 - val_accuracy: 0.8109\n",
            "Epoch 2/10\n",
            "191/191 [==============================] - 7s 36ms/step - loss: 0.3818 - accuracy: 0.8379 - val_loss: 0.4394 - val_accuracy: 0.8037\n",
            "Epoch 3/10\n",
            "191/191 [==============================] - 7s 36ms/step - loss: 0.3346 - accuracy: 0.8627 - val_loss: 0.4494 - val_accuracy: 0.8017\n",
            "Epoch 4/10\n",
            "191/191 [==============================] - 7s 35ms/step - loss: 0.2987 - accuracy: 0.8819 - val_loss: 0.5052 - val_accuracy: 0.7820\n",
            "Epoch 5/10\n",
            "191/191 [==============================] - 7s 35ms/step - loss: 0.2658 - accuracy: 0.8966 - val_loss: 0.5204 - val_accuracy: 0.7827\n",
            "Epoch 6/10\n",
            "191/191 [==============================] - 7s 36ms/step - loss: 0.2352 - accuracy: 0.9033 - val_loss: 0.5668 - val_accuracy: 0.7814\n",
            "Epoch 7/10\n",
            "191/191 [==============================] - 7s 36ms/step - loss: 0.2117 - accuracy: 0.9133 - val_loss: 0.6304 - val_accuracy: 0.7787\n",
            "Epoch 8/10\n",
            "191/191 [==============================] - 7s 36ms/step - loss: 0.1885 - accuracy: 0.9235 - val_loss: 0.7522 - val_accuracy: 0.7676\n",
            "Epoch 9/10\n",
            "191/191 [==============================] - 7s 36ms/step - loss: 0.1747 - accuracy: 0.9291 - val_loss: 0.7507 - val_accuracy: 0.7676\n",
            "Epoch 10/10\n",
            "191/191 [==============================] - 7s 36ms/step - loss: 0.1624 - accuracy: 0.9317 - val_loss: 0.7912 - val_accuracy: 0.7735\n"
          ]
        },
        {
          "output_type": "execute_result",
          "data": {
            "text/plain": [
              "<keras.callbacks.History at 0x7f1785b56490>"
            ]
          },
          "metadata": {},
          "execution_count": 89
        }
      ]
    },
    {
      "cell_type": "code",
      "source": [
        "y_pred = model.predict(X_test).round()"
      ],
      "metadata": {
        "colab": {
          "base_uri": "https://localhost:8080/"
        },
        "id": "DYCdTXy-0xJx",
        "outputId": "78a67822-889b-4de6-a4ac-565b3e97c80e"
      },
      "execution_count": 90,
      "outputs": [
        {
          "output_type": "stream",
          "name": "stdout",
          "text": [
            "48/48 [==============================] - 1s 5ms/step\n"
          ]
        }
      ]
    },
    {
      "cell_type": "code",
      "source": [
        "y_pred"
      ],
      "metadata": {
        "colab": {
          "base_uri": "https://localhost:8080/"
        },
        "id": "r2-wIOa6GgLt",
        "outputId": "98f96461-d120-4fde-b3fd-b3720f2164c4"
      },
      "execution_count": 91,
      "outputs": [
        {
          "output_type": "execute_result",
          "data": {
            "text/plain": [
              "array([[0.],\n",
              "       [1.],\n",
              "       [1.],\n",
              "       ...,\n",
              "       [0.],\n",
              "       [0.],\n",
              "       [0.]], dtype=float32)"
            ]
          },
          "metadata": {},
          "execution_count": 91
        }
      ]
    },
    {
      "cell_type": "markdown",
      "source": [
        "Evaluation"
      ],
      "metadata": {
        "id": "M1_CrRIfGl76"
      }
    },
    {
      "cell_type": "code",
      "source": [
        "train_accuracy = round(metrics.accuracy_score(y_train,model.predict(X_train).round())*100)\n",
        "train_accuracy"
      ],
      "metadata": {
        "colab": {
          "base_uri": "https://localhost:8080/"
        },
        "id": "ZDOUBIebGnPq",
        "outputId": "b198ab90-27bc-4d0b-a855-cddab1a75911"
      },
      "execution_count": 92,
      "outputs": [
        {
          "output_type": "stream",
          "name": "stdout",
          "text": [
            "191/191 [==============================] - 1s 5ms/step\n"
          ]
        },
        {
          "output_type": "execute_result",
          "data": {
            "text/plain": [
              "96"
            ]
          },
          "metadata": {},
          "execution_count": 92
        }
      ]
    },
    {
      "cell_type": "code",
      "source": [
        "print('Accuracy  is  : ', (metrics.accuracy_score(y_test, y_pred)))\n",
        "print('Recall  is    : ', (metrics.recall_score(y_test, y_pred)))\n",
        "print('Precision  is : ', (metrics.precision_score(y_test, y_pred)))"
      ],
      "metadata": {
        "colab": {
          "base_uri": "https://localhost:8080/"
        },
        "id": "cWcbVXG1Gnxm",
        "outputId": "a2787cd2-bb6b-4871-e874-940a85df2281"
      },
      "execution_count": 93,
      "outputs": [
        {
          "output_type": "stream",
          "name": "stdout",
          "text": [
            "Accuracy  is  :  0.7734734077478661\n",
            "Recall  is    :  0.7439024390243902\n",
            "Precision  is :  0.7338345864661654\n"
          ]
        }
      ]
    }
  ]
}