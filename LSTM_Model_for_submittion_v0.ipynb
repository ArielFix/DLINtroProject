{
  "cells": [
    {
      "cell_type": "markdown",
      "metadata": {
        "id": "view-in-github",
        "colab_type": "text"
      },
      "source": [
        "<a href=\"https://colab.research.google.com/github/ArielFix/DLINtroProject/blob/NNModel/LSTM_Model_for_submittion_v1.ipynb\" target=\"_parent\"><img src=\"https://colab.research.google.com/assets/colab-badge.svg\" alt=\"Open In Colab\"/></a>"
      ]
    },
    {
      "cell_type": "code",
      "execution_count": 40,
      "metadata": {
        "id": "ABS6e1eeU2F5"
      },
      "outputs": [],
      "source": [
        "import numpy as np # linear algebra\n",
        "import pandas as pd # data processing, CSV file I/O (e.g. pd.read_csv)\n",
        "import string \n",
        "\n",
        "\n",
        "from sklearn.model_selection import train_test_split #Library for Splitting Dataset\n",
        "from sklearn import metrics\n",
        "\n",
        "#Libraries for NN\n",
        "import tensorflow as tf\n",
        "import pickle\n",
        "\n",
        "from tensorflow import keras\n",
        "from tensorflow.keras.preprocessing.text import Tokenizer\n",
        "from tensorflow.keras.preprocessing.sequence import pad_sequences\n",
        "\n",
        "from tensorflow.keras import optimizers\n",
        "from tensorflow.keras.models import Sequential\n",
        "from tensorflow.keras.layers import Dense, Embedding, LSTM, Dropout"
      ]
    },
    {
      "cell_type": "code",
      "execution_count": 41,
      "metadata": {
        "colab": {
          "base_uri": "https://localhost:8080/"
        },
        "id": "Ml1zRj8hQvEO",
        "outputId": "c148d555-b520-4523-b74f-4904c7897ee5"
      },
      "outputs": [
        {
          "output_type": "stream",
          "name": "stdout",
          "text": [
            "Drive already mounted at /content/gdrive; to attempt to forcibly remount, call drive.mount(\"/content/gdrive\", force_remount=True).\n"
          ]
        }
      ],
      "source": [
        "from google.colab import drive\n",
        "drive.mount('/content/gdrive')\n",
        "train_data_path = '/content/gdrive/MyDrive/IDL_Assignments/NLP_Project/data/augmented_train.csv'\n",
        "test_data_path = '/content/gdrive/My Drive/IDL_Assignments/NLP_Project/data/test.csv'\n",
        "submission_path = '/content/gdrive/MyDrive/IDL_Assignments/NLP_Project/data/sample_submission.csv'"
      ]
    },
    {
      "cell_type": "code",
      "execution_count": 42,
      "metadata": {
        "id": "jQYb9W5gti9E"
      },
      "outputs": [],
      "source": [
        "train_data = pd.read_csv(train_data_path)"
      ]
    },
    {
      "cell_type": "code",
      "execution_count": 43,
      "metadata": {
        "id": "bsnxUkk5PsB_"
      },
      "outputs": [],
      "source": [
        "def toclean_text(text):\n",
        "\n",
        "    \n",
        "    clean_text = [char for char in text if char not in string.punctuation]\n",
        "   \n",
        "    clean_text = ''.join(clean_text)\n",
        "    \n",
        "        \n",
        "    return clean_text"
      ]
    },
    {
      "cell_type": "code",
      "execution_count": 44,
      "metadata": {
        "id": "Cod3oVFzS7VC"
      },
      "outputs": [],
      "source": [
        "train_data['clean_text'] = train_data['text'].apply(toclean_text) #This line gives the text without punctuation"
      ]
    },
    {
      "cell_type": "markdown",
      "metadata": {
        "id": "QPGUR_YBuzBH"
      },
      "source": [
        "More pre-processing must be done! such as replace abbreviations with the original word, remove URLs, remove numbers, remove emojis..etc..."
      ]
    },
    {
      "cell_type": "code",
      "execution_count": 45,
      "metadata": {
        "id": "QeI2P1jzR0Mp"
      },
      "outputs": [],
      "source": [
        "abbreviations = {\n",
        "    \"$\" : \" dollar \",\n",
        "    \"€\" : \" euro \",\n",
        "    \"4ao\" : \"for adults only\",\n",
        "    \"a.m\" : \"before midday\",\n",
        "    \"a3\" : \"anytime anywhere anyplace\",\n",
        "    \"aamof\" : \"as a matter of fact\",\n",
        "    \"acct\" : \"account\",\n",
        "    \"adih\" : \"another day in hell\",\n",
        "    \"afaic\" : \"as far as i am concerned\",\n",
        "    \"afaict\" : \"as far as i can tell\",\n",
        "    \"afaik\" : \"as far as i know\",\n",
        "    \"afair\" : \"as far as i remember\",\n",
        "    \"afk\" : \"away from keyboard\",\n",
        "    \"app\" : \"application\",\n",
        "    \"approx\" : \"approximately\",\n",
        "    \"apps\" : \"applications\",\n",
        "    \"asap\" : \"as soon as possible\",\n",
        "    \"asl\" : \"age, sex, location\",\n",
        "    \"atk\" : \"at the keyboard\",\n",
        "    \"ave.\" : \"avenue\",\n",
        "    \"aymm\" : \"are you my mother\",\n",
        "    \"ayor\" : \"at your own risk\", \n",
        "    \"b&b\" : \"bed and breakfast\",\n",
        "    \"b+b\" : \"bed and breakfast\",\n",
        "    \"b.c\" : \"before christ\",\n",
        "    \"b2b\" : \"business to business\",\n",
        "    \"b2c\" : \"business to customer\",\n",
        "    \"b4\" : \"before\",\n",
        "    \"b4n\" : \"bye for now\",\n",
        "    \"b@u\" : \"back at you\",\n",
        "    \"bae\" : \"before anyone else\",\n",
        "    \"bak\" : \"back at keyboard\",\n",
        "    \"bbbg\" : \"bye bye be good\",\n",
        "    \"bbc\" : \"british broadcasting corporation\",\n",
        "    \"bbias\" : \"be back in a second\",\n",
        "    \"bbl\" : \"be back later\",\n",
        "    \"bbs\" : \"be back soon\",\n",
        "    \"be4\" : \"before\",\n",
        "    \"bfn\" : \"bye for now\",\n",
        "    \"blvd\" : \"boulevard\",\n",
        "    \"bout\" : \"about\",\n",
        "    \"brb\" : \"be right back\",\n",
        "    \"bros\" : \"brothers\",\n",
        "    \"brt\" : \"be right there\",\n",
        "    \"bsaaw\" : \"big smile and a wink\",\n",
        "    \"btw\" : \"by the way\",\n",
        "    \"bwl\" : \"bursting with laughter\",\n",
        "    \"c/o\" : \"care of\",\n",
        "    \"cet\" : \"central european time\",\n",
        "    \"cf\" : \"compare\",\n",
        "    \"cia\" : \"central intelligence agency\",\n",
        "    \"csl\" : \"can not stop laughing\",\n",
        "    \"cu\" : \"see you\",\n",
        "    \"cul8r\" : \"see you later\",\n",
        "    \"cv\" : \"curriculum vitae\",\n",
        "    \"cwot\" : \"complete waste of time\",\n",
        "    \"cya\" : \"see you\",\n",
        "    \"cyt\" : \"see you tomorrow\",\n",
        "    \"dae\" : \"does anyone else\",\n",
        "    \"dbmib\" : \"do not bother me i am busy\",\n",
        "    \"diy\" : \"do it yourself\",\n",
        "    \"dm\" : \"direct message\",\n",
        "    \"dwh\" : \"during work hours\",\n",
        "    \"e123\" : \"easy as one two three\",\n",
        "    \"eet\" : \"eastern european time\",\n",
        "    \"eg\" : \"example\",\n",
        "    \"embm\" : \"early morning business meeting\",\n",
        "    \"encl\" : \"enclosed\",\n",
        "    \"encl.\" : \"enclosed\",\n",
        "    \"etc\" : \"and so on\",\n",
        "    \"faq\" : \"frequently asked questions\",\n",
        "    \"fawc\" : \"for anyone who cares\",\n",
        "    \"fb\" : \"facebook\",\n",
        "    \"fc\" : \"fingers crossed\",\n",
        "    \"fig\" : \"figure\",\n",
        "    \"fimh\" : \"forever in my heart\", \n",
        "    \"ft.\" : \"feet\",\n",
        "    \"ft\" : \"featuring\",\n",
        "    \"ftl\" : \"for the loss\",\n",
        "    \"ftw\" : \"for the win\",\n",
        "    \"fwiw\" : \"for what it is worth\",\n",
        "    \"fyi\" : \"for your information\",\n",
        "    \"g9\" : \"genius\",\n",
        "    \"gahoy\" : \"get a hold of yourself\",\n",
        "    \"gal\" : \"get a life\",\n",
        "    \"gcse\" : \"general certificate of secondary education\",\n",
        "    \"gfn\" : \"gone for now\",\n",
        "    \"gg\" : \"good game\",\n",
        "    \"gl\" : \"good luck\",\n",
        "    \"glhf\" : \"good luck have fun\",\n",
        "    \"gmt\" : \"greenwich mean time\",\n",
        "    \"gmta\" : \"great minds think alike\",\n",
        "    \"gn\" : \"good night\",\n",
        "    \"g.o.a.t\" : \"greatest of all time\",\n",
        "    \"goat\" : \"greatest of all time\",\n",
        "    \"goi\" : \"get over it\",\n",
        "    \"gps\" : \"global positioning system\",\n",
        "    \"gr8\" : \"great\",\n",
        "    \"gratz\" : \"congratulations\",\n",
        "    \"gyal\" : \"girl\",\n",
        "    \"h&c\" : \"hot and cold\",\n",
        "    \"hp\" : \"horsepower\",\n",
        "    \"hr\" : \"hour\",\n",
        "    \"hrh\" : \"his royal highness\",\n",
        "    \"ht\" : \"height\",\n",
        "    \"ibrb\" : \"i will be right back\",\n",
        "    \"ic\" : \"i see\",\n",
        "    \"icq\" : \"i seek you\",\n",
        "    \"icymi\" : \"in case you missed it\",\n",
        "    \"idc\" : \"i do not care\",\n",
        "    \"idgadf\" : \"i do not give a damn fuck\",\n",
        "    \"idgaf\" : \"i do not give a fuck\",\n",
        "    \"idk\" : \"i do not know\",\n",
        "    \"ie\" : \"that is\",\n",
        "    \"i.e\" : \"that is\",\n",
        "    \"ifyp\" : \"i feel your pain\",\n",
        "    \"IG\" : \"instagram\",\n",
        "    \"iirc\" : \"if i remember correctly\",\n",
        "    \"ilu\" : \"i love you\",\n",
        "    \"ily\" : \"i love you\",\n",
        "    \"imho\" : \"in my humble opinion\",\n",
        "    \"imo\" : \"in my opinion\",\n",
        "    \"imu\" : \"i miss you\",\n",
        "    \"iow\" : \"in other words\",\n",
        "    \"irl\" : \"in real life\",\n",
        "    \"j4f\" : \"just for fun\",\n",
        "    \"jic\" : \"just in case\",\n",
        "    \"jk\" : \"just kidding\",\n",
        "    \"jsyk\" : \"just so you know\",\n",
        "    \"l8r\" : \"later\",\n",
        "    \"lb\" : \"pound\",\n",
        "    \"lbs\" : \"pounds\",\n",
        "    \"ldr\" : \"long distance relationship\",\n",
        "    \"lmao\" : \"laugh my ass off\",\n",
        "    \"lmfao\" : \"laugh my fucking ass off\",\n",
        "    \"lol\" : \"laughing out loud\",\n",
        "    \"ltd\" : \"limited\",\n",
        "    \"ltns\" : \"long time no see\",\n",
        "    \"m8\" : \"mate\",\n",
        "    \"mf\" : \"motherfucker\",\n",
        "    \"mfs\" : \"motherfuckers\",\n",
        "    \"mfw\" : \"my face when\",\n",
        "    \"mofo\" : \"motherfucker\",\n",
        "    \"mph\" : \"miles per hour\",\n",
        "    \"mr\" : \"mister\",\n",
        "    \"mrw\" : \"my reaction when\",\n",
        "    \"ms\" : \"miss\",\n",
        "    \"mte\" : \"my thoughts exactly\",\n",
        "    \"nagi\" : \"not a good idea\",\n",
        "    \"nbc\" : \"national broadcasting company\",\n",
        "    \"nbd\" : \"not big deal\",\n",
        "    \"nfs\" : \"not for sale\",\n",
        "    \"ngl\" : \"not going to lie\",\n",
        "    \"nhs\" : \"national health service\",\n",
        "    \"nrn\" : \"no reply necessary\",\n",
        "    \"nsfl\" : \"not safe for life\",\n",
        "    \"nsfw\" : \"not safe for work\",\n",
        "    \"nth\" : \"nice to have\",\n",
        "    \"nvr\" : \"never\",\n",
        "    \"nyc\" : \"new york city\",\n",
        "    \"oc\" : \"original content\",\n",
        "    \"og\" : \"original\",\n",
        "    \"ohp\" : \"overhead projector\",\n",
        "    \"oic\" : \"oh i see\",\n",
        "    \"omdb\" : \"over my dead body\",\n",
        "    \"omg\" : \"oh my god\",\n",
        "    \"omw\" : \"on my way\",\n",
        "    \"p.a\" : \"per annum\",\n",
        "    \"p.m\" : \"after midday\",\n",
        "    \"pm\" : \"prime minister\",\n",
        "    \"poc\" : \"people of color\",\n",
        "    \"pov\" : \"point of view\",\n",
        "    \"pp\" : \"pages\",\n",
        "    \"ppl\" : \"people\",\n",
        "    \"prw\" : \"parents are watching\",\n",
        "    \"ps\" : \"postscript\",\n",
        "    \"pt\" : \"point\",\n",
        "    \"ptb\" : \"please text back\",\n",
        "    \"pto\" : \"please turn over\",\n",
        "    \"qpsa\" : \"what happens\",\n",
        "    \"ratchet\" : \"rude\",\n",
        "    \"rbtl\" : \"read between the lines\",\n",
        "    \"rlrt\" : \"real life retweet\", \n",
        "    \"rofl\" : \"rolling on the floor laughing\",\n",
        "    \"roflol\" : \"rolling on the floor laughing out loud\",\n",
        "    \"rotflmao\" : \"rolling on the floor laughing my ass off\",\n",
        "    \"rt\" : \"retweet\",\n",
        "    \"ruok\" : \"are you ok\",\n",
        "    \"sfw\" : \"safe for work\",\n",
        "    \"sk8\" : \"skate\",\n",
        "    \"smh\" : \"shake my head\",\n",
        "    \"sq\" : \"square\",\n",
        "    \"srsly\" : \"seriously\", \n",
        "    \"ssdd\" : \"same stuff different day\",\n",
        "    \"tbh\" : \"to be honest\",\n",
        "    \"tbs\" : \"tablespooful\",\n",
        "    \"tbsp\" : \"tablespooful\",\n",
        "    \"tfw\" : \"that feeling when\",\n",
        "    \"thks\" : \"thank you\",\n",
        "    \"tho\" : \"though\",\n",
        "    \"thx\" : \"thank you\",\n",
        "    \"tia\" : \"thanks in advance\",\n",
        "    \"til\" : \"today i learned\",\n",
        "    \"tl;dr\" : \"too long i did not read\",\n",
        "    \"tldr\" : \"too long i did not read\",\n",
        "    \"tmb\" : \"tweet me back\",\n",
        "    \"tntl\" : \"trying not to laugh\",\n",
        "    \"ttyl\" : \"talk to you later\",\n",
        "    \"u\" : \"you\",\n",
        "    \"u2\" : \"you too\",\n",
        "    \"u4e\" : \"yours for ever\",\n",
        "    \"utc\" : \"coordinated universal time\",\n",
        "    \"w/\" : \"with\",\n",
        "    \"w/o\" : \"without\",\n",
        "    \"w8\" : \"wait\",\n",
        "    \"wassup\" : \"what is up\",\n",
        "    \"wb\" : \"welcome back\",\n",
        "    \"wtf\" : \"what the fuck\",\n",
        "    \"wtg\" : \"way to go\",\n",
        "    \"wtpa\" : \"where the party at\",\n",
        "    \"wuf\" : \"where are you from\",\n",
        "    \"wuzup\" : \"what is up\",\n",
        "    \"wywh\" : \"wish you were here\",\n",
        "    \"yd\" : \"yard\",\n",
        "    \"ygtr\" : \"you got that right\",\n",
        "    \"ynk\" : \"you never know\",\n",
        "    \"zzz\" : \"sleeping bored and tired\"\n",
        "}"
      ]
    },
    {
      "cell_type": "code",
      "execution_count": 46,
      "metadata": {
        "id": "X-7-Ip-wR5In"
      },
      "outputs": [],
      "source": [
        "# Remove all URLs, replace by URL\n",
        "def remove_URL(text):\n",
        "    url = re.compile(r'https?://\\S+|www\\.\\S+')\n",
        "    return url.sub(r'URL',text)\n",
        "\n",
        "# Remove HTML beacon\n",
        "def remove_HTML(text):\n",
        "    html=re.compile(r'<.*?>')\n",
        "    return html.sub(r'',text)\n",
        "\n",
        "# Remove non printable characters\n",
        "def remove_not_ASCII(text):\n",
        "    text = ''.join([word for word in text if word in string.printable])\n",
        "    return text\n",
        "\n",
        "# Change an abbreviation by its true meaning\n",
        "def word_abbrev(word):\n",
        "    return abbreviations[word.lower()] if word.lower() in abbreviations.keys() else word\n",
        "\n",
        "# Replace all abbreviations\n",
        "def replace_abbrev(text):\n",
        "    string = \"\"\n",
        "    for word in text.split():\n",
        "        string += word_abbrev(word) + \" \"        \n",
        "    return string\n",
        "\n",
        "# Remove @ and mention, replace by USER\n",
        "def remove_mention(text):\n",
        "    at=re.compile(r'@\\S+')\n",
        "    return at.sub(r'USER',text)\n",
        "\n",
        "# Remove numbers, replace it by NUMBER\n",
        "def remove_number(text):\n",
        "    num = re.compile(r'[-+]?[.\\d]*[\\d]+[:,.\\d]*')\n",
        "    return num.sub(r'NUMBER', text)\n",
        "\n",
        "# Remove all emojis, replace by EMOJI\n",
        "def remove_emoji(text):\n",
        "    emoji_pattern = re.compile(\"[\"\n",
        "                           u\"\\U0001F600-\\U0001F64F\"  # emoticons\n",
        "                           u\"\\U0001F300-\\U0001F5FF\"  # symbols & pictographs\n",
        "                           u\"\\U0001F680-\\U0001F6FF\"  # transport & map symbols\n",
        "                           u\"\\U0001F1E0-\\U0001F1FF\"  # flags (iOS)\n",
        "                           u\"\\U00002702-\\U000027B0\"\n",
        "                           u\"\\U000024C2-\\U0001F251\"\n",
        "                           \"]+\", flags=re.UNICODE)\n",
        "    return emoji_pattern.sub(r'EMOJI', text)\n",
        "\n",
        "# Replace some others smileys with SADFACE\n",
        "def transcription_sad(text):\n",
        "    eyes = \"[8:=;]\"\n",
        "    nose = \"['`\\-]\"\n",
        "    smiley = re.compile(r'[8:=;][\\'\\-]?[(\\\\/]')\n",
        "    return smiley.sub(r'SADFACE', text)\n",
        "\n",
        "# Replace some smileys with SMILE\n",
        "def transcription_smile(text):\n",
        "    eyes = \"[8:=;]\"\n",
        "    nose = \"['`\\-]\"\n",
        "    smiley = re.compile(r'[8:=;][\\'\\-]?[)dDp]')\n",
        "    #smiley = re.compile(r'#{eyes}#{nose}[)d]+|[)d]+#{nose}#{eyes}/i')\n",
        "    return smiley.sub(r'SMILE', text)\n",
        "\n",
        "# Replace <3 with HEART\n",
        "def transcription_heart(text):\n",
        "    heart = re.compile(r'<3')\n",
        "    return heart.sub(r'HEART', text)"
      ]
    },
    {
      "cell_type": "code",
      "execution_count": 47,
      "metadata": {
        "id": "oK63P7viR8x3"
      },
      "outputs": [],
      "source": [
        "def clean_tweet(text):\n",
        "    \n",
        "    # Remove non text\n",
        "    text = remove_URL(text)\n",
        "    text = remove_HTML(text)\n",
        "    text = remove_not_ASCII(text)\n",
        "    \n",
        "    # replace abbreviations, @ and number\n",
        "    text = replace_abbrev(text)  \n",
        "    text = remove_mention(text)\n",
        "    text = remove_number(text)\n",
        "    \n",
        "    # Remove emojis / smileys\n",
        "    text = remove_emoji(text)\n",
        "    text = transcription_sad(text)\n",
        "    text = transcription_smile(text)\n",
        "    text = transcription_heart(text)\n",
        "  \n",
        "    return text"
      ]
    },
    {
      "cell_type": "code",
      "execution_count": 48,
      "metadata": {
        "id": "9e3u1NSyv3ji"
      },
      "outputs": [],
      "source": [
        "l = 64\n",
        "max_features=5000\n",
        "tokenizer=Tokenizer(num_words=max_features,split=' ')\n",
        "tokenizer.fit_on_texts(train_data['clean_text'].values)\n",
        "X = tokenizer.texts_to_sequences(train_data['clean_text'].values)\n",
        "X = pad_sequences(X, maxlen = l)"
      ]
    },
    {
      "cell_type": "markdown",
      "metadata": {
        "id": "SZLKZ7jtwwju"
      },
      "source": [
        "Model-"
      ]
    },
    {
      "cell_type": "code",
      "execution_count": 49,
      "metadata": {
        "id": "ps7Lm2WavR3S"
      },
      "outputs": [],
      "source": [
        "y = train_data['target']\n",
        "X_train, X_test, y_train, y_test = train_test_split(X,y, test_size = 0.25, random_state = 59) #Split arrays or matrices into random train and test subsets.\n"
      ]
    },
    {
      "cell_type": "markdown",
      "metadata": {
        "id": "W-Ejx4QYtFOB"
      },
      "source": [
        "Model explanation -\n",
        "This is a code that creates a deep learning model for binary classification using the Keras library in Python. The model is a sequential model, which means that the layers are added one after the other in a linear stack. The model is designed to classify tweets as either disaster-related or not.\n",
        "\n",
        "Embedding layer: The first layer of the model is an Embedding layer. This layer maps each word in the input sequence to a dense vector of fixed size, called the embedding vector. The embed_dim argument specifies the size of the embedding vector, in this case, it is 32. The input_length argument specifies the length of the input sequence, in this case, it is X.shape[1]. The max_features argument specifies the number of unique words in the vocabulary, which is used to initialize the weights of the embedding layer.\n",
        "\n",
        "Dropout layer: The second layer of the model is a Dropout layer. This layer randomly sets input units to 0 with a frequency of 0.2 at each step during training time, which helps prevent overfitting.\n",
        "\n",
        "LSTM layer: The third layer of the model is an LSTM layer. This layer is a type of Recurrent Neural Network (RNN) that is well-suited for processing sequences of data. The lstm_out argument specifies the size of the output of the LSTM layer, in this case, it is 32. The dropout and recurrent_dropout arguments specify the dropout rates for the LSTM layer.\n",
        "\n",
        "Dense layer: The fourth and final layer of the model is a Dense layer with one output node and a sigmoid activation function. This layer is used to make the binary classification by producing a probability value between 0 and 1, where values close to 0 correspond to class 0 (not disaster-related) and values close to 1 correspond to class 1 (disaster-related).\n",
        "\n",
        "Compiling the model: The model is compiled using the binary_crossentropy loss function, which is suitable for binary classification problems, and the Adam optimizer with a learning rate of 0.002. The metrics argument specifies that accuracy will be used as the evaluation metric.\n",
        "\n",
        "Finally, the model.summary() function call outputs a summary of the model architecture and its parameters, which can be useful for understanding the structure of the model."
      ]
    },
    {
      "cell_type": "code",
      "execution_count": 50,
      "metadata": {
        "colab": {
          "base_uri": "https://localhost:8080/"
        },
        "id": "TiL6BkEXwKcA",
        "outputId": "b98864b3-feda-46ba-f0c8-a9d6104d8e81"
      },
      "outputs": [
        {
          "output_type": "stream",
          "name": "stdout",
          "text": [
            "Model: \"sequential_1\"\n",
            "_________________________________________________________________\n",
            " Layer (type)                Output Shape              Param #   \n",
            "=================================================================\n",
            " embedding_1 (Embedding)     (None, 64, 64)            320000    \n",
            "                                                                 \n",
            " dropout_3 (Dropout)         (None, 64, 64)            0         \n",
            "                                                                 \n",
            " lstm_2 (LSTM)               (None, 64, 64)            33024     \n",
            "                                                                 \n",
            " dropout_4 (Dropout)         (None, 64, 64)            0         \n",
            "                                                                 \n",
            " lstm_3 (LSTM)               (None, 64)                33024     \n",
            "                                                                 \n",
            " dropout_5 (Dropout)         (None, 64)                0         \n",
            "                                                                 \n",
            " dense_1 (Dense)             (None, 1)                 65        \n",
            "                                                                 \n",
            "=================================================================\n",
            "Total params: 386,113\n",
            "Trainable params: 386,113\n",
            "Non-trainable params: 0\n",
            "_________________________________________________________________\n",
            "None\n"
          ]
        }
      ],
      "source": [
        "embed_dim = 64 \n",
        "lstm_out = 64 #output_dim: Dimension of embedding vector\n",
        "model = Sequential() #a plain stack of layers where each layer has exactly one input tensor and one output tensor.\n",
        "model.add(Embedding(max_features, embed_dim, input_length = X.shape[1])) #using embedding better then one-hot in the cases where mose indices are zero\n",
        "model.add(Dropout(0.3)) #Dropout layer randomly sets input units to 0 with a frequency of rate at each step during training time, which helps prevent overfitting.\n",
        "model.add(LSTM(lstm_out, dropout=0.3, return_sequences=True,recurrent_dropout=0.4))\n",
        "model.add(Dropout(0.3))\n",
        "model.add(LSTM(lstm_out,dropout=0.3, recurrent_dropout=0.2))\n",
        "model.add(Dropout(0.3))\n",
        "model.add(Dense(1,activation='sigmoid'))\n",
        "adam = optimizers.Adam(learning_rate=0.003)\n",
        "model.compile(loss = 'binary_crossentropy', optimizer=adam ,metrics = ['accuracy'])\n",
        "print(model.summary())"
      ]
    },
    {
      "cell_type": "code",
      "execution_count": 51,
      "metadata": {
        "colab": {
          "base_uri": "https://localhost:8080/"
        },
        "id": "NanK1ZL3yyHi",
        "outputId": "0a1bd6f0-ce66-492f-ee19-4e2e123465b8"
      },
      "outputs": [
        {
          "output_type": "stream",
          "name": "stdout",
          "text": [
            "Epoch 1/8\n",
            "1333/1333 [==============================] - 212s 155ms/step - loss: 0.3649 - accuracy: 0.8460 - val_loss: 0.2550 - val_accuracy: 0.8987\n",
            "Epoch 2/8\n",
            "1333/1333 [==============================] - 200s 150ms/step - loss: 0.2261 - accuracy: 0.9107 - val_loss: 0.1911 - val_accuracy: 0.9231\n",
            "Epoch 3/8\n",
            "1333/1333 [==============================] - 210s 157ms/step - loss: 0.1725 - accuracy: 0.9302 - val_loss: 0.1761 - val_accuracy: 0.9303\n",
            "Epoch 4/8\n",
            "1333/1333 [==============================] - 201s 151ms/step - loss: 0.1382 - accuracy: 0.9426 - val_loss: 0.1724 - val_accuracy: 0.9382\n",
            "Epoch 5/8\n",
            "1333/1333 [==============================] - 204s 153ms/step - loss: 0.1201 - accuracy: 0.9505 - val_loss: 0.1662 - val_accuracy: 0.9414\n",
            "Epoch 6/8\n",
            "1333/1333 [==============================] - 200s 150ms/step - loss: 0.1052 - accuracy: 0.9564 - val_loss: 0.1658 - val_accuracy: 0.9437\n",
            "Epoch 7/8\n",
            "1333/1333 [==============================] - 204s 153ms/step - loss: 0.0983 - accuracy: 0.9586 - val_loss: 0.1615 - val_accuracy: 0.9469\n",
            "Epoch 8/8\n",
            "1333/1333 [==============================] - 202s 151ms/step - loss: 0.0900 - accuracy: 0.9626 - val_loss: 0.1710 - val_accuracy: 0.9463\n"
          ]
        },
        {
          "output_type": "execute_result",
          "data": {
            "text/plain": [
              "<keras.callbacks.History at 0x7fa87a8314c0>"
            ]
          },
          "metadata": {},
          "execution_count": 51
        }
      ],
      "source": [
        "model.fit(X_train, y_train, epochs = 8, batch_size=30, validation_data=(X_test, y_test))"
      ]
    },
    {
      "cell_type": "code",
      "source": [
        "# save the model to disk\n",
        "filename = '/content/gdrive/MyDrive/IDL_Assignments/NLP_Project/finalized_model.sav'\n",
        "pickle.dump(model, open(filename, 'wb'))"
      ],
      "metadata": {
        "colab": {
          "base_uri": "https://localhost:8080/"
        },
        "id": "1wKzoRB7UYlm",
        "outputId": "b58ea5f6-174e-4661-a90d-e144e0718085"
      },
      "execution_count": 52,
      "outputs": [
        {
          "output_type": "stream",
          "name": "stdout",
          "text": [
            "Keras weights file (<HDF5 file \"variables.h5\" (mode r+)>) saving:\n",
            "...layers\n",
            "......dense\n",
            ".........vars\n",
            "............0\n",
            "............1\n",
            "......dropout\n",
            ".........vars\n",
            "......dropout_1\n",
            ".........vars\n",
            "......dropout_2\n",
            ".........vars\n",
            "......embedding\n",
            ".........vars\n",
            "............0\n",
            "......lstm\n",
            ".........cell\n",
            "............vars\n",
            "...............0\n",
            "...............1\n",
            "...............2\n",
            ".........vars\n",
            "......lstm_1\n",
            ".........cell\n",
            "............vars\n",
            "...............0\n",
            "...............1\n",
            "...............2\n",
            ".........vars\n",
            "...metrics\n",
            "......mean\n",
            ".........vars\n",
            "............0\n",
            "............1\n",
            "......mean_metric_wrapper\n",
            ".........vars\n",
            "............0\n",
            "............1\n",
            "...optimizer\n",
            "......vars\n",
            ".........0\n",
            ".........1\n",
            ".........10\n",
            ".........11\n",
            ".........12\n",
            ".........13\n",
            ".........14\n",
            ".........15\n",
            ".........16\n",
            ".........17\n",
            ".........18\n",
            ".........2\n",
            ".........3\n",
            ".........4\n",
            ".........5\n",
            ".........6\n",
            ".........7\n",
            ".........8\n",
            ".........9\n",
            "...vars\n",
            "Keras model archive saving:\n",
            "File Name                                             Modified             Size\n",
            "config.json                                    2023-02-15 19:02:11         3894\n",
            "variables.h5                                   2023-02-15 19:02:11      4670992\n",
            "metadata.json                                  2023-02-15 19:02:11           64\n"
          ]
        }
      ]
    },
    {
      "cell_type": "code",
      "source": [
        "# load the model from disk\n",
        "# loaded_model = pickle.load(open(filename, 'rb'))"
      ],
      "metadata": {
        "id": "pIWqENGbU324"
      },
      "execution_count": 53,
      "outputs": []
    },
    {
      "cell_type": "code",
      "execution_count": 54,
      "metadata": {
        "colab": {
          "base_uri": "https://localhost:8080/"
        },
        "id": "DYCdTXy-0xJx",
        "outputId": "8f4240ff-c819-47d8-99d0-db68d9b22a95"
      },
      "outputs": [
        {
          "output_type": "stream",
          "name": "stdout",
          "text": [
            "417/417 [==============================] - 8s 19ms/step\n"
          ]
        }
      ],
      "source": [
        "y_pred = model.predict(X_test).round()"
      ]
    },
    {
      "cell_type": "markdown",
      "metadata": {
        "id": "M1_CrRIfGl76"
      },
      "source": [
        "Evaluation"
      ]
    },
    {
      "cell_type": "code",
      "execution_count": 55,
      "metadata": {
        "colab": {
          "base_uri": "https://localhost:8080/"
        },
        "id": "ZDOUBIebGnPq",
        "outputId": "a99d7b0d-ef94-4edf-a54a-9c04e3ebfbb9"
      },
      "outputs": [
        {
          "output_type": "stream",
          "name": "stdout",
          "text": [
            "1249/1249 [==============================] - 27s 21ms/step\n"
          ]
        },
        {
          "output_type": "execute_result",
          "data": {
            "text/plain": [
              "98"
            ]
          },
          "metadata": {},
          "execution_count": 55
        }
      ],
      "source": [
        "train_accuracy = round(metrics.accuracy_score(y_train,model.predict(X_train).round())*100)\n",
        "train_accuracy"
      ]
    },
    {
      "cell_type": "code",
      "execution_count": 56,
      "metadata": {
        "colab": {
          "base_uri": "https://localhost:8080/"
        },
        "id": "cWcbVXG1Gnxm",
        "outputId": "57c4bc5c-cb3f-4949-9b38-c06e1de653ec"
      },
      "outputs": [
        {
          "output_type": "stream",
          "name": "stdout",
          "text": [
            "Accuracy  is  :  0.9462583502214216\n",
            "Recall  is    :  0.9155440414507772\n",
            "Precision  is :  0.9589363241678727\n"
          ]
        }
      ],
      "source": [
        "print('Accuracy  is  : ', (metrics.accuracy_score(y_test, y_pred)))\n",
        "print('Recall  is    : ', (metrics.recall_score(y_test, y_pred)))\n",
        "print('Precision  is : ', (metrics.precision_score(y_test, y_pred)))"
      ]
    },
    {
      "cell_type": "markdown",
      "metadata": {
        "id": "uHQMSVGqS0Oy"
      },
      "source": [
        "Submission"
      ]
    },
    {
      "cell_type": "code",
      "execution_count": 57,
      "metadata": {
        "id": "3_P-Q0lQS0jB"
      },
      "outputs": [],
      "source": [
        "test_data = pd.read_csv(test_data_path)"
      ]
    },
    {
      "cell_type": "code",
      "execution_count": 58,
      "metadata": {
        "id": "geh6pjZ7trHO"
      },
      "outputs": [],
      "source": [
        "import re"
      ]
    },
    {
      "cell_type": "code",
      "execution_count": 59,
      "metadata": {
        "id": "GXcsxik53vPa"
      },
      "outputs": [],
      "source": [
        "test_data['clean_text'] = test_data['text'].apply(toclean_text)\n",
        "test_data[\"clean_text\"] = test_data[\"clean_text\"].apply(clean_tweet)"
      ]
    },
    {
      "cell_type": "code",
      "execution_count": 60,
      "metadata": {
        "id": "GN6vouuSGTcM"
      },
      "outputs": [],
      "source": [
        "tokenizer.fit_on_texts(train_data['clean_text'].values)\n",
        "test_token = tokenizer.texts_to_sequences(test_data['clean_text'].values)\n",
        "test_token = pad_sequences(test_token, maxlen =l)"
      ]
    },
    {
      "cell_type": "code",
      "execution_count": 61,
      "metadata": {
        "colab": {
          "base_uri": "https://localhost:8080/",
          "height": 87
        },
        "id": "cv-L7ZBpGT5X",
        "outputId": "7939a177-4ff4-4b5d-dfc9-081854dc48c4"
      },
      "outputs": [
        {
          "output_type": "execute_result",
          "data": {
            "text/plain": [
              "\"\\nembed_dim = 128\\nlstm_out = 128\\nmodel = Sequential()\\nmodel.add(Embedding(max_features, embed_dim,input_length = X.shape[1]))\\nmodel.add(Dropout(0.2))\\nmodel.add(LSTM(lstm_out, dropout=0.2, return_sequences=True,recurrent_dropout=0.4))\\nmodel.add(Dropout(0.2))\\nmodel.add(LSTM(lstm_out,dropout=0.2, recurrent_dropout=0.2))\\nmodel.add(Dropout(0.2))\\nmodel.add(Dense(1,activation='sigmoid'))\\nadam = optimizers.Adam(learning_rate=2e-3)\\nmodel.compile(loss = 'binary_crossentropy', optimizer=adam ,metrics = ['accuracy'])\\nprint(model.summary())\\n\""
            ],
            "application/vnd.google.colaboratory.intrinsic+json": {
              "type": "string"
            }
          },
          "metadata": {},
          "execution_count": 61
        }
      ],
      "source": [
        "\"\"\"\n",
        "embed_dim = 128\n",
        "lstm_out = 128\n",
        "model = Sequential()\n",
        "model.add(Embedding(max_features, embed_dim,input_length = X.shape[1]))\n",
        "model.add(Dropout(0.2))\n",
        "model.add(LSTM(lstm_out, dropout=0.2, return_sequences=True,recurrent_dropout=0.4))\n",
        "model.add(Dropout(0.2))\n",
        "model.add(LSTM(lstm_out,dropout=0.2, recurrent_dropout=0.2))\n",
        "model.add(Dropout(0.2))\n",
        "model.add(Dense(1,activation='sigmoid'))\n",
        "adam = optimizers.Adam(learning_rate=2e-3)\n",
        "model.compile(loss = 'binary_crossentropy', optimizer=adam ,metrics = ['accuracy'])\n",
        "print(model.summary())\n",
        "\"\"\""
      ]
    },
    {
      "cell_type": "code",
      "execution_count": 62,
      "metadata": {
        "id": "UwU6Yks8GbSs"
      },
      "outputs": [],
      "source": [
        "#es_callback = keras.callbacks.EarlyStopping(monitor='val_loss', patience=3)"
      ]
    },
    {
      "cell_type": "code",
      "execution_count": 63,
      "metadata": {
        "id": "VfzpyjouGc6G"
      },
      "outputs": [],
      "source": [
        "#model.fit(X,y, epochs = 12,validation_split = 0.3 ,callbacks=[es_callback], batch_size=64)"
      ]
    },
    {
      "cell_type": "code",
      "execution_count": 64,
      "metadata": {
        "colab": {
          "base_uri": "https://localhost:8080/"
        },
        "id": "EQGwDgqcGe8O",
        "outputId": "929d2527-c92a-4c85-cb9c-6d51bbfb6e92"
      },
      "outputs": [
        {
          "output_type": "stream",
          "name": "stdout",
          "text": [
            "102/102 [==============================] - 2s 23ms/step\n"
          ]
        }
      ],
      "source": [
        "y_hat = model.predict(test_token).round()\n",
        "submission = pd.read_csv(submission_path)\n",
        "submission['target'] = np.round(y_hat).astype('int')\n",
        "submission.to_csv('submission_withAUG.csv', index=False)"
      ]
    },
    {
      "cell_type": "code",
      "execution_count": 65,
      "metadata": {
        "colab": {
          "base_uri": "https://localhost:8080/",
          "height": 90
        },
        "id": "5J8uqdrypXQ5",
        "outputId": "95e4aee2-81b6-4fdd-fe83-79ec60d4cc42"
      },
      "outputs": [
        {
          "output_type": "display_data",
          "data": {
            "text/plain": [
              "<IPython.core.display.HTML object>"
            ],
            "text/html": [
              "\n",
              "     <input type=\"file\" id=\"files-3abad26f-9a3a-4111-be57-b454dd218da3\" name=\"files[]\" multiple disabled\n",
              "        style=\"border:none\" />\n",
              "     <output id=\"result-3abad26f-9a3a-4111-be57-b454dd218da3\">\n",
              "      Upload widget is only available when the cell has been executed in the\n",
              "      current browser session. Please rerun this cell to enable.\n",
              "      </output>\n",
              "      <script>// Copyright 2017 Google LLC\n",
              "//\n",
              "// Licensed under the Apache License, Version 2.0 (the \"License\");\n",
              "// you may not use this file except in compliance with the License.\n",
              "// You may obtain a copy of the License at\n",
              "//\n",
              "//      http://www.apache.org/licenses/LICENSE-2.0\n",
              "//\n",
              "// Unless required by applicable law or agreed to in writing, software\n",
              "// distributed under the License is distributed on an \"AS IS\" BASIS,\n",
              "// WITHOUT WARRANTIES OR CONDITIONS OF ANY KIND, either express or implied.\n",
              "// See the License for the specific language governing permissions and\n",
              "// limitations under the License.\n",
              "\n",
              "/**\n",
              " * @fileoverview Helpers for google.colab Python module.\n",
              " */\n",
              "(function(scope) {\n",
              "function span(text, styleAttributes = {}) {\n",
              "  const element = document.createElement('span');\n",
              "  element.textContent = text;\n",
              "  for (const key of Object.keys(styleAttributes)) {\n",
              "    element.style[key] = styleAttributes[key];\n",
              "  }\n",
              "  return element;\n",
              "}\n",
              "\n",
              "// Max number of bytes which will be uploaded at a time.\n",
              "const MAX_PAYLOAD_SIZE = 100 * 1024;\n",
              "\n",
              "function _uploadFiles(inputId, outputId) {\n",
              "  const steps = uploadFilesStep(inputId, outputId);\n",
              "  const outputElement = document.getElementById(outputId);\n",
              "  // Cache steps on the outputElement to make it available for the next call\n",
              "  // to uploadFilesContinue from Python.\n",
              "  outputElement.steps = steps;\n",
              "\n",
              "  return _uploadFilesContinue(outputId);\n",
              "}\n",
              "\n",
              "// This is roughly an async generator (not supported in the browser yet),\n",
              "// where there are multiple asynchronous steps and the Python side is going\n",
              "// to poll for completion of each step.\n",
              "// This uses a Promise to block the python side on completion of each step,\n",
              "// then passes the result of the previous step as the input to the next step.\n",
              "function _uploadFilesContinue(outputId) {\n",
              "  const outputElement = document.getElementById(outputId);\n",
              "  const steps = outputElement.steps;\n",
              "\n",
              "  const next = steps.next(outputElement.lastPromiseValue);\n",
              "  return Promise.resolve(next.value.promise).then((value) => {\n",
              "    // Cache the last promise value to make it available to the next\n",
              "    // step of the generator.\n",
              "    outputElement.lastPromiseValue = value;\n",
              "    return next.value.response;\n",
              "  });\n",
              "}\n",
              "\n",
              "/**\n",
              " * Generator function which is called between each async step of the upload\n",
              " * process.\n",
              " * @param {string} inputId Element ID of the input file picker element.\n",
              " * @param {string} outputId Element ID of the output display.\n",
              " * @return {!Iterable<!Object>} Iterable of next steps.\n",
              " */\n",
              "function* uploadFilesStep(inputId, outputId) {\n",
              "  const inputElement = document.getElementById(inputId);\n",
              "  inputElement.disabled = false;\n",
              "\n",
              "  const outputElement = document.getElementById(outputId);\n",
              "  outputElement.innerHTML = '';\n",
              "\n",
              "  const pickedPromise = new Promise((resolve) => {\n",
              "    inputElement.addEventListener('change', (e) => {\n",
              "      resolve(e.target.files);\n",
              "    });\n",
              "  });\n",
              "\n",
              "  const cancel = document.createElement('button');\n",
              "  inputElement.parentElement.appendChild(cancel);\n",
              "  cancel.textContent = 'Cancel upload';\n",
              "  const cancelPromise = new Promise((resolve) => {\n",
              "    cancel.onclick = () => {\n",
              "      resolve(null);\n",
              "    };\n",
              "  });\n",
              "\n",
              "  // Wait for the user to pick the files.\n",
              "  const files = yield {\n",
              "    promise: Promise.race([pickedPromise, cancelPromise]),\n",
              "    response: {\n",
              "      action: 'starting',\n",
              "    }\n",
              "  };\n",
              "\n",
              "  cancel.remove();\n",
              "\n",
              "  // Disable the input element since further picks are not allowed.\n",
              "  inputElement.disabled = true;\n",
              "\n",
              "  if (!files) {\n",
              "    return {\n",
              "      response: {\n",
              "        action: 'complete',\n",
              "      }\n",
              "    };\n",
              "  }\n",
              "\n",
              "  for (const file of files) {\n",
              "    const li = document.createElement('li');\n",
              "    li.append(span(file.name, {fontWeight: 'bold'}));\n",
              "    li.append(span(\n",
              "        `(${file.type || 'n/a'}) - ${file.size} bytes, ` +\n",
              "        `last modified: ${\n",
              "            file.lastModifiedDate ? file.lastModifiedDate.toLocaleDateString() :\n",
              "                                    'n/a'} - `));\n",
              "    const percent = span('0% done');\n",
              "    li.appendChild(percent);\n",
              "\n",
              "    outputElement.appendChild(li);\n",
              "\n",
              "    const fileDataPromise = new Promise((resolve) => {\n",
              "      const reader = new FileReader();\n",
              "      reader.onload = (e) => {\n",
              "        resolve(e.target.result);\n",
              "      };\n",
              "      reader.readAsArrayBuffer(file);\n",
              "    });\n",
              "    // Wait for the data to be ready.\n",
              "    let fileData = yield {\n",
              "      promise: fileDataPromise,\n",
              "      response: {\n",
              "        action: 'continue',\n",
              "      }\n",
              "    };\n",
              "\n",
              "    // Use a chunked sending to avoid message size limits. See b/62115660.\n",
              "    let position = 0;\n",
              "    do {\n",
              "      const length = Math.min(fileData.byteLength - position, MAX_PAYLOAD_SIZE);\n",
              "      const chunk = new Uint8Array(fileData, position, length);\n",
              "      position += length;\n",
              "\n",
              "      const base64 = btoa(String.fromCharCode.apply(null, chunk));\n",
              "      yield {\n",
              "        response: {\n",
              "          action: 'append',\n",
              "          file: file.name,\n",
              "          data: base64,\n",
              "        },\n",
              "      };\n",
              "\n",
              "      let percentDone = fileData.byteLength === 0 ?\n",
              "          100 :\n",
              "          Math.round((position / fileData.byteLength) * 100);\n",
              "      percent.textContent = `${percentDone}% done`;\n",
              "\n",
              "    } while (position < fileData.byteLength);\n",
              "  }\n",
              "\n",
              "  // All done.\n",
              "  yield {\n",
              "    response: {\n",
              "      action: 'complete',\n",
              "    }\n",
              "  };\n",
              "}\n",
              "\n",
              "scope.google = scope.google || {};\n",
              "scope.google.colab = scope.google.colab || {};\n",
              "scope.google.colab._files = {\n",
              "  _uploadFiles,\n",
              "  _uploadFilesContinue,\n",
              "};\n",
              "})(self);\n",
              "</script> "
            ]
          },
          "metadata": {}
        },
        {
          "output_type": "stream",
          "name": "stdout",
          "text": [
            "Saving kaggle.json to kaggle (2).json\n"
          ]
        },
        {
          "output_type": "execute_result",
          "data": {
            "text/plain": [
              "{'kaggle.json': b'{\"username\":\"arielfixler\",\"key\":\"d1f8d7cc349ae4484d6617532b9e8a93\"}'}"
            ]
          },
          "metadata": {},
          "execution_count": 65
        }
      ],
      "source": [
        "from google.colab import files\n",
        "files.upload()\n"
      ]
    },
    {
      "cell_type": "code",
      "execution_count": 66,
      "metadata": {
        "id": "9Qv7GrL5pdfR"
      },
      "outputs": [],
      "source": [
        "!mkdir -p ~/.kaggle\n",
        "!cp kaggle.json ~/.kaggle/\n"
      ]
    },
    {
      "cell_type": "code",
      "execution_count": 67,
      "metadata": {
        "id": "JgjPetNZpkmo",
        "colab": {
          "base_uri": "https://localhost:8080/"
        },
        "outputId": "8d06da68-45e2-4620-ef17-82402867d928"
      },
      "outputs": [
        {
          "output_type": "stream",
          "name": "stdout",
          "text": [
            "Warning: Your Kaggle API key is readable by other users on this system! To fix this, you can run 'chmod 600 /root/.kaggle/kaggle.json'\n",
            "100% 22.2k/22.2k [00:00<00:00, 39.3kB/s]\n",
            "Successfully submitted to Natural Language Processing with Disaster Tweets"
          ]
        }
      ],
      "source": [
        "!kaggle competitions submit -c nlp-getting-started -f submission_withAUG.csv -m \"Message\"\n"
      ]
    },
    {
      "cell_type": "markdown",
      "source": [
        "LSTM Model Score using original train data:\n",
        "![WhatsApp Image 2023-02-15 at 20.33.34.jpeg](data:image/jpeg;base64,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)\n",
        "\n",
        "LSTM Model Score using augmented train data:\n",
        "![WhatsApp Image 2023-02-14 at 23.55.11.jpeg](data:image/jpeg;base64,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)"
      ],
      "metadata": {
        "id": "7KP4OakMjYkK"
      }
    }
  ],
  "metadata": {
    "colab": {
      "provenance": [],
      "authorship_tag": "ABX9TyOqt8ZvDi6VIA5k0vEmgnBh",
      "include_colab_link": true
    },
    "kernelspec": {
      "display_name": "Python 3",
      "name": "python3"
    },
    "language_info": {
      "name": "python"
    }
  },
  "nbformat": 4,
  "nbformat_minor": 0
}
